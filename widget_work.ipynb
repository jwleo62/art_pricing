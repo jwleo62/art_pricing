{
 "cells": [
  {
   "cell_type": "code",
   "execution_count": 89,
   "id": "2b987c16",
   "metadata": {},
   "outputs": [],
   "source": [
    "import ipywidgets as widgets\n",
    "from IPython.display import display\n",
    "import math"
   ]
  },
  {
   "cell_type": "code",
   "execution_count": 44,
   "id": "f27dc60e",
   "metadata": {},
   "outputs": [],
   "source": [
    "def len_widget(side):\n",
    "    widg=widgets.IntSlider(\n",
    "        value=8,\n",
    "        min=8,\n",
    "        max=60,\n",
    "        step=1,\n",
    "        description='side ' + str(side),\n",
    "        disabled=False,\n",
    "        continuous_update=False,\n",
    "        orientation='horizontal',\n",
    "        readout=True,\n",
    "        readout_format='d'\n",
    "    )\n",
    "    return widg"
   ]
  },
  {
   "cell_type": "code",
   "execution_count": 84,
   "id": "014440c7",
   "metadata": {},
   "outputs": [],
   "source": [
    "diam=widgets.IntSlider(\n",
    "    value=8,\n",
    "    min=8,\n",
    "    max=60,\n",
    "    step=1,\n",
    "    description='diameter',\n",
    "    disabled=False,\n",
    "    continuous_update=False,\n",
    "    orientation='horizontal',\n",
    "    readout=True,\n",
    "    readout_format='d'\n",
    ")"
   ]
  },
  {
   "cell_type": "code",
   "execution_count": 98,
   "id": "beec4c0e",
   "metadata": {},
   "outputs": [],
   "source": [
    "width=widgets.IntSlider(\n",
    "    value=8,\n",
    "    min=8,\n",
    "    max=60,\n",
    "    step=1,\n",
    "    description='width',\n",
    "    disabled=False,\n",
    "    continuous_update=False,\n",
    "    orientation='horizontal',\n",
    "    readout=True,\n",
    "    readout_format='d'\n",
    ")"
   ]
  },
  {
   "cell_type": "code",
   "execution_count": 106,
   "id": "921a9811",
   "metadata": {},
   "outputs": [],
   "source": [
    "def rect_price(a,b):\n",
    "    \"\"\"price formula for rectanglular art with length in inches for sides a and b\"\"\"\n",
    "    price=round(1.5*a*b/25)*25\n",
    "    print('Estimated Price = ${}'.format(price))\n",
    "def rect_area(a,b):\n",
    "    \"\"\"display area of rectangular art in square inches\"\"\"\n",
    "    print('{} square inches'.format(a*b))\n",
    "\n",
    "def unit_price():\n",
    "    1+1\n",
    "    \n",
    "def round_price(d):\n",
    "    \"\"\"price formula for round art with length in inches of the diameter\"\"\"\n",
    "    price=round(1.5*(.5*d)**2*math.pi/25)*25\n",
    "    print('Estimated Price = ${}'.format(price))\n",
    "    \n",
    "def heart_price(w):\n",
    "    \"\"\"price formula for heart art with length in inches for width\"\"\"\n",
    "    price=round(1.5*(.5*w)**2*math.pi/25)*25\n",
    "    print('Estimated Price = ${}'.format(price))"
   ]
  },
  {
   "cell_type": "code",
   "execution_count": 107,
   "id": "9033d933",
   "metadata": {},
   "outputs": [
    {
     "data": {
      "application/vnd.jupyter.widget-view+json": {
       "model_id": "4a2a9aa185ae4807a7172eef90dc9cdc",
       "version_major": 2,
       "version_minor": 0
      },
      "text/plain": [
       "Tab(children=(VBox(children=(IntSlider(value=8, continuous_update=False, description='side 1', max=60, min=8),…"
      ]
     },
     "metadata": {},
     "output_type": "display_data"
    }
   ],
   "source": [
    "sides = [len_widget(i) for i in range(1,3)]\n",
    "rec_out = [\n",
    "    widgets.interactive_output(rect_price,{'a':sides[0],'b':sides[1]}),\n",
    "    widgets.interactive_output(rect_area,{'a':sides[0],'b':sides[1]})\n",
    "]\n",
    "\n",
    "rectangle = widgets.VBox(children=sides+rec_out)\n",
    "\n",
    "round_out = widgets.interactive_output(round_price,{'d':diam})\n",
    "round_art = widgets.VBox(children=[diam,round_out])\n",
    "\n",
    "heart_out = widgets.interactive_output(heart_price,{'w':width})\n",
    "heart = widgets.VBox(children=[width,heart_out])\n",
    "\n",
    "tab = widgets.Tab()\n",
    "names = ['Rectangle', 'Round', 'Heart', 'Wings']\n",
    "[tab.set_title(i, title) for i, title in enumerate(names)]\n",
    "child3=widgets.Text(description=\"tab3\")\n",
    "children = [rectangle,round_art,heart,child3]\n",
    "tab.children = children\n",
    "tab"
   ]
  }
 ],
 "metadata": {
  "kernelspec": {
   "display_name": "Python 3",
   "language": "python",
   "name": "python3"
  },
  "language_info": {
   "codemirror_mode": {
    "name": "ipython",
    "version": 3
   },
   "file_extension": ".py",
   "mimetype": "text/x-python",
   "name": "python",
   "nbconvert_exporter": "python",
   "pygments_lexer": "ipython3",
   "version": "3.9.5"
  }
 },
 "nbformat": 4,
 "nbformat_minor": 5
}
