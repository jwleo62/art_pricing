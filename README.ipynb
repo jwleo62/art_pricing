{
 "cells": [
  {
   "cell_type": "markdown",
   "metadata": {},
   "source": [
    "This is a personal web app that will be a reference to help set pricing for Kimberly's art with the following features.\n",
    "* enter shape, like rectangle, circle, heart, wings\n",
    "* enter size\n",
    "* enter gallery commission or direct sales or prior customer\n",
    "* enter if tax will be applied separately or should be included\n",
    "* select tax rate\n",
    "* produce range of prices with separate tax amount, if applicable\n",
    "* produce recent sales of similar size and type"
   ]
  }
 ],
 "metadata": {
  "kernelspec": {
   "display_name": "Python 3",
   "language": "python",
   "name": "python3"
  },
  "language_info": {
   "codemirror_mode": {
    "name": "ipython",
    "version": 3
   },
   "file_extension": ".py",
   "mimetype": "text/x-python",
   "name": "python",
   "nbconvert_exporter": "python",
   "pygments_lexer": "ipython3",
   "version": "3.9.5"
  }
 },
 "nbformat": 4,
 "nbformat_minor": 2
}
